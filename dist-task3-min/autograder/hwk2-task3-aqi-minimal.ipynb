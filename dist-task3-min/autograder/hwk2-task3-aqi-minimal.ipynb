{
 "cells": [
  {
   "cell_type": "code",
   "execution_count": null,
   "metadata": {
    "deletable": false,
    "editable": false
   },
   "outputs": [],
   "source": [
    "# Initialize Otter\n",
    "import otter\n",
    "grader = otter.Notebook(\"hwk2-task3-aqi-minimal.ipynb\")"
   ]
  },
  {
   "cell_type": "markdown",
   "metadata": {
    "deletable": false,
    "editable": false
   },
   "source": [
    "<!-- BEGIN QUESTION -->\n",
    "\n"
   ]
  },
  {
   "cell_type": "code",
   "execution_count": 12,
   "metadata": {
    "tags": [
     "otter_assign_solution_cell"
    ]
   },
   "outputs": [],
   "source": [
    "import pandas as pd # SOLUTION NO PROMPT\n",
    "\n",
    "# Read in data\n",
    "aqi_17 = pd.read_csv('data/daily_aqi_by_county_2017.csv') # SOLUTION\n",
    "aqi_18 = pd.read_csv('data/daily_aqi_by_county_2018.csv') # SOLUTION"
   ]
  },
  {
   "cell_type": "markdown",
   "metadata": {
    "deletable": false,
    "editable": false
   },
   "source": [
    "<!-- END QUESTION -->\n",
    "\n"
   ]
  },
  {
   "cell_type": "code",
   "execution_count": 13,
   "metadata": {
    "tags": [
     "otter_assign_solution_cell"
    ]
   },
   "outputs": [],
   "source": [
    "# a.\n",
    "aqi_17_head = aqi_17.head() # SOLUTION "
   ]
  },
  {
   "cell_type": "code",
   "execution_count": null,
   "metadata": {
    "deletable": false,
    "editable": false
   },
   "outputs": [],
   "source": [
    "grader.check(\"q3_a\")"
   ]
  },
  {
   "cell_type": "code",
   "execution_count": 15,
   "metadata": {
    "tags": [
     "otter_assign_solution_cell"
    ]
   },
   "outputs": [],
   "source": [
    "aqi = pd.concat([aqi_17, aqi_18]) # SOLUTION"
   ]
  },
  {
   "cell_type": "code",
   "execution_count": null,
   "metadata": {
    "deletable": false,
    "editable": false
   },
   "outputs": [],
   "source": [
    "grader.check(\"q4\")"
   ]
  },
  {
   "cell_type": "code",
   "execution_count": 20,
   "metadata": {
    "tags": [
     "otter_assign_solution_cell"
    ]
   },
   "outputs": [],
   "source": [
    "# BEGIN SOLUTION NO PROMPT\n",
    "aqi.columns = (aqi.columns\n",
    "                  .str.lower()\n",
    "                  .str.replace(' ','_')\n",
    ")\n",
    "# END SOLUTION"
   ]
  },
  {
   "cell_type": "code",
   "execution_count": null,
   "metadata": {
    "deletable": false,
    "editable": false
   },
   "outputs": [],
   "source": [
    "grader.check(\"q5\")"
   ]
  }
 ],
 "metadata": {
  "kernelspec": {
   "display_name": "Python 3.9.20 ('gradescope-env')",
   "language": "python",
   "name": "python3"
  },
  "language_info": {
   "codemirror_mode": {
    "name": "ipython",
    "version": 3
   },
   "file_extension": ".py",
   "mimetype": "text/x-python",
   "name": "python",
   "nbconvert_exporter": "python",
   "pygments_lexer": "ipython3",
   "version": "3.9.20"
  },
  "otter": {
   "OK_FORMAT": false,
   "tests": {
    "q3_a": "from otter.test_files import test_case\n\nOK_FORMAT = False\n\nname = \"q3_a\"\npoints = 2\n\n@test_case(points=None, hidden=False)\nassert pd.read_csv('data/t3_q3a_df.csv').equals(aqi_17_head)\n",
    "q4": "from otter.test_files import test_case\n\nOK_FORMAT = False\n\nname = \"q4\"\npoints = 2\n\n@test_case(points=None, hidden=False)\ndef frames_are_equal(df1, df2):\n    try:\n        pd.testing.assert_frame_equal(df1, df2)\n        return True  # No exception means DataFrames are equal\n    except AssertionError:\n        return False \n        \n@test_case(points=None, hidden=False)\ndef frames_are_equal(df1, df2):\n    pd.testing.assert_frame_equal(df1, df2.reset_index(drop=True))\n        \n@test_case(points=None, hidden=False)\nassert pd.read_csv('data/t3_q4_df.csv').equals(aqi.reset_index(drop=True))\n@test_case(points=None, hidden=False)\npd.testing.assert_frame_equal(pd.read_csv('data/t3_q4_df.csv'), \n                              aqi.reset_index(drop=True))\n",
    "q5": "from otter.test_files import test_case\n\nOK_FORMAT = False\n\nname = \"q5\"\npoints = 3\n\n@test_case(points=None, hidden=False)\nassert aqi.equals(aqi)\n"
   }
  },
  "vscode": {
   "interpreter": {
    "hash": "2b415a67d8387bfce97a158d8a84290023ecb87dd0a402b6fa1c793f264cc787"
   }
  }
 },
 "nbformat": 4,
 "nbformat_minor": 4
}
